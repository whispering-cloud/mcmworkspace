{
 "cells": [
  {
   "cell_type": "markdown",
   "metadata": {},
   "source": [
    "# 数据处理"
   ]
  },
  {
   "cell_type": "markdown",
   "metadata": {},
   "source": [
    "## 地图数据处理"
   ]
  },
  {
   "cell_type": "code",
   "execution_count": null,
   "metadata": {},
   "outputs": [],
   "source": [
    "from scipy.spatial.distance import euclidean\n",
    "from math import ceil\n",
    "import pandas as pd\n",
    "map_name=\"women-individual-time-trial\"\n",
    "map_raw_path = \"../problem/data/raw/\"+map_name+\"-map_raw.csv\"\n",
    "map_real_len = 2000\n",
    "\n",
    "\n",
    "tmp = pd.read_csv(map_raw_path)\n",
    "del map_raw_path\n",
    "map_len = 0\n",
    "for id in range(1, len(tmp.index)):\n",
    "    map_len += euclidean(tmp.loc[id-1], tmp.loc[id])*100\n",
    "print(\"map_len is:\", map_len, \"whereas map_real_len is:\", map_real_len)\n",
    "\n",
    "df = pd.DataFrame(columns=tmp.columns, index=range(1, map_real_len+1))\n",
    "df.loc[1] = tmp.loc[1]\n",
    "\n",
    "current_len = 0\n",
    "for id in range(2, len(tmp.index)):\n",
    "    current_len += euclidean(tmp.loc[id-1], tmp.loc[id])*100\n",
    "    df.loc[ceil(current_len/map_len*map_real_len)] = tmp.loc[id]\n",
    "del tmp, current_len, map_len, map_real_len\n",
    "\n",
    "df = df.infer_objects()\n",
    "df.interpolate(method='linear', inplace=True)\n",
    "df.to_csv(\"../problem/data/\"+map_name+\"-map_data.txt\",\n",
    "          index=False, sep=\" \", header=False)\n",
    "df.to_csv(\"../problem/data/\"+map_name+\"-map_data.csv\", index=False)\n",
    "del df\n"
   ]
  },
  {
   "cell_type": "code",
   "execution_count": null,
   "metadata": {},
   "outputs": [],
   "source": [
    "import numpy as np\n",
    "pd.DataFrame([(np.sin(x/15)+np.sin(np.pi*x/30))*1.5+10 for x in range(0,2000)]).to_csv(\"../problem/data/square_data.txt\",index=False,header=0)"
   ]
  },
  {
   "cell_type": "markdown",
   "metadata": {},
   "source": [
    "## 运动员数据拟合"
   ]
  },
  {
   "cell_type": "code",
   "execution_count": null,
   "metadata": {},
   "outputs": [],
   "source": [
    "import json\n",
    "import pandas as pd\n",
    "from scipy.optimize import curve_fit\n",
    "import matplotlib.pyplot as plt\n",
    "athlete_id=4\n",
    "athlete_name=['Erika Ackerlund','Johannes Weber','Jessica Allen','Eddie Anderson','Eva Buchholz']\n",
    "athlete_raw_path = \"../problem/data/raw/athletes/\"+athlete_name[athlete_id]+\".json\"\n",
    "with open(athlete_raw_path) as raw:\n",
    "    athelete_raw=json.load(raw)\n",
    "watts=pd.DataFrame([x[2] for x in athelete_raw['cp_data']])\n",
    "func=lambda x,m,n,k,l: m*(n**x)+k*x+l\n",
    "p_est, err_est =curve_fit(func,watts.index,watts[0])\n",
    "print(p_est)\n",
    "plt.plot(watts.index,watts[0])\n",
    "plt.plot(watts.index,func(watts[0].index,*p_est))\n",
    "plt.savefig('../problem/data/athletes/'+athlete_name[athlete_id]+'.svg',format='svg')"
   ]
  }
 ],
 "metadata": {
  "interpreter": {
   "hash": "93eedc822eafabb0b825994b44d7184cdef4e9f74a95fc40c1d86bca946a64a1"
  },
  "kernelspec": {
   "display_name": "Python 3.9.5 ('2021-ICM')",
   "language": "python",
   "name": "python3"
  },
  "language_info": {
   "codemirror_mode": {
    "name": "ipython",
    "version": 3
   },
   "file_extension": ".py",
   "mimetype": "text/x-python",
   "name": "python",
   "nbconvert_exporter": "python",
   "pygments_lexer": "ipython3",
   "version": "3.9.5"
  },
  "orig_nbformat": 4
 },
 "nbformat": 4,
 "nbformat_minor": 2
}
