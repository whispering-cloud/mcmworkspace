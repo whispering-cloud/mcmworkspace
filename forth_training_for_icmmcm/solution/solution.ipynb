{
 "cells": [
  {
   "cell_type": "markdown",
   "metadata": {},
   "source": [
    "# 代码笔记本\n"
   ]
  },
  {
   "cell_type": "markdown",
   "metadata": {},
   "source": [
    "##   初始化\n",
    "- `artist` 艺术家信息，以artist_id为索引\n",
    "- `year` 年份信息，以年份为索引\n",
    "- `music` 音乐信息\n",
    "- `influence_network` 艺术家影响网络"
   ]
  },
  {
   "cell_type": "markdown",
   "metadata": {},
   "source": [
    "### 设置样本数据路径\n"
   ]
  },
  {
   "cell_type": "code",
   "execution_count": null,
   "metadata": {},
   "outputs": [],
   "source": [
    "data_by_artist_src = \"../problem/2021_ICM_Problem_D_Data/data_by_artist.csv\"\n",
    "data_by_year_src = \"../problem/2021_ICM_Problem_D_Data/data_by_year.csv\"\n",
    "full_music_data_src = \"../problem/2021_ICM_Problem_D_Data/full_music_data.csv\"\n",
    "influence_data_src = \"../problem/2021_ICM_Problem_D_Data/influence_data.csv\"\n"
   ]
  },
  {
   "cell_type": "markdown",
   "metadata": {},
   "source": [
    "### 读入并整理数据\n"
   ]
  },
  {
   "cell_type": "code",
   "execution_count": null,
   "metadata": {},
   "outputs": [],
   "source": [
    "import pandas as pd\n",
    "\n",
    "artist = pd.read_csv(data_by_artist_src).set_index(\n",
    "    'artist_id', drop=False)\n",
    "year = pd.read_csv(data_by_year_src).set_index('year', drop=False)\n",
    "music = pd.read_csv(full_music_data_src)\n",
    "influence_data = pd.read_csv(influence_data_src)\n",
    "\n",
    "music['release_date'] = pd.to_datetime(\n",
    "    music['release_date'], infer_datetime_format=True)\n",
    "music['artists_id'] = music['artists_id'].apply(eval)\n",
    "music['artist_names'] = music['artist_names'].apply(eval)\n",
    "\n",
    "de = list()  # 保障数据完整性\n",
    "for x in music.itertuples():\n",
    "    for id in x.artists_id:\n",
    "        if not id in artist.index:\n",
    "            break\n",
    "    else:\n",
    "        continue\n",
    "    de.append(x.Index)\n",
    "\n",
    "music.drop(de, inplace=True)\n",
    "del de\n"
   ]
  },
  {
   "cell_type": "markdown",
   "metadata": {},
   "source": [
    "### 构建影响网络\n"
   ]
  },
  {
   "cell_type": "code",
   "execution_count": null,
   "metadata": {},
   "outputs": [],
   "source": [
    "import networkx as nx\n",
    "influence_network = nx.DiGraph()\n",
    "for x in influence_data.itertuples():\n",
    "    influence_network.add_node(x.influencer_id, name=x.influencer_name,\n",
    "                               main_genre=x.influencer_main_genre, active_start=x.influencer_active_start)\n",
    "    influence_network.add_node(x.follower_id, name=x.follower_name,\n",
    "                               main_genre=x.follower_main_genre, active_start=x.follower_active_start)\n",
    "influence_network.add_edges_from([x for x in influence_data[[\n",
    "                                 'influencer_id', 'follower_id']].itertuples(index=False, name=None)])\n",
    "\n",
    "influence_network.remove_nodes_from(\n",
    "    [node for node in influence_network.nodes if not node in artist.index])  # 保障数据完整性\n",
    "\n",
    "del influence_data\n"
   ]
  },
  {
   "cell_type": "markdown",
   "metadata": {},
   "source": [
    "## 环检测"
   ]
  },
  {
   "cell_type": "code",
   "execution_count": null,
   "metadata": {},
   "outputs": [],
   "source": [
    "def loop_check(id, visited=None):\n",
    "    if visited is None:\n",
    "        visited=set()\n",
    "    if id in visited:\n",
    "        print(\"检测到环！环上节点集合：\", visited)\n",
    "        return True\n",
    "    visited.add(id)\n",
    "    for next in influence_network[id]:\n",
    "        if loop_check(next, visited.copy()):\n",
    "            return True\n",
    "    return False\n",
    "\n",
    "\n",
    "for node in influence_network.nodes:\n",
    "    if loop_check(node):\n",
    "        break\n",
    "else:\n",
    "    print(\"未检测到环！\")\n",
    "\n",
    "del loop_check\n"
   ]
  },
  {
   "cell_type": "markdown",
   "metadata": {},
   "source": [
    "## 节点影响力计算\n",
    "计算结果将保存至`influence_network.nodes[]['influence_coefficient']`中"
   ]
  },
  {
   "cell_type": "code",
   "execution_count": null,
   "metadata": {},
   "outputs": [],
   "source": [
    "_MAX_DEPTH = 4\n",
    "\n",
    "\n",
    "def influence(id, visited=None, depth=0):\n",
    "    if visited is None:\n",
    "        visited=set()\n",
    "    if id in visited or depth >= _MAX_DEPTH:\n",
    "        return 0\n",
    "    visited.add(id)\n",
    "    ret = 1\n",
    "    for jd in influence_network[id]:\n",
    "        ret += influence(jd, visited.copy(), depth+1)*0.5\n",
    "    return ret\n",
    "\n",
    "\n",
    "for node in influence_network.nodes:\n",
    "    influence_network.nodes[node]['influence_coefficient'] = influence(node)\n",
    "\n",
    "del influence, _MAX_DEPTH\n"
   ]
  },
  {
   "cell_type": "markdown",
   "metadata": {},
   "source": [
    "## 艺术家相似度计算\n",
    "由于部分数据单位上差距过大，进行放缩处理\n",
    "\n",
    "- `features` 音乐特征\n",
    "- `artist_similarity[a][b]` a与b的相似度\n",
    "- `artists_in_genre[genre]` 风格genre下艺术家列表\n",
    "- `same_genre_similarity` 拥有*相同*音乐风格的艺术家普遍相似度\n",
    "- `diff_genre_similarity` 拥有*不同*音乐风格的艺术家普遍相似度"
   ]
  },
  {
   "cell_type": "code",
   "execution_count": null,
   "metadata": {},
   "outputs": [],
   "source": [
    "from collections import defaultdict\n",
    "features = ['danceability', 'energy', 'valence', 'tempo', 'loudness', 'mode', 'key',\n",
    "            'acousticness', 'instrumentalness', 'liveness', 'speechiness', 'duration_ms', 'popularity']\n",
    "\n",
    "artist_similarity = (artist[features]/artist[features].mean()).T.corr()\n",
    "\n",
    "artists_in_genre = defaultdict(list)\n",
    "nodes = list(influence_network.nodes)\n",
    "for node in nodes:\n",
    "    g = influence_network.nodes[node]['main_genre']\n",
    "    artists_in_genre[g].append(node)\n",
    "\n",
    "same_genre_similarity = 0\n",
    "same_genre_cnt = 0\n",
    "\n",
    "for genre in artists_in_genre:\n",
    "    same_genre_similarity += artist_similarity[artists_in_genre[genre]\n",
    "                                               ].T[artists_in_genre[genre]].sum().sum()-len(artists_in_genre[genre])\n",
    "    same_genre_cnt += len(artists_in_genre[genre]\n",
    "                          )**2-len(artists_in_genre[genre])\n",
    "\n",
    "diff_genre_similarity = artist_similarity[nodes].T[nodes].sum(\n",
    ").sum() - same_genre_similarity - len(nodes)\n",
    "diff_genre_cnt = len(nodes)**2-len(nodes)-same_genre_cnt\n",
    "\n",
    "same_genre_similarity /= same_genre_cnt\n",
    "diff_genre_similarity /= diff_genre_cnt\n",
    "\n",
    "del same_genre_cnt, diff_genre_cnt, nodes\n",
    "print(\"same_genre_similarity=\", same_genre_similarity)\n",
    "print(\"diff_genre_similarity=\", diff_genre_similarity)\n"
   ]
  },
  {
   "cell_type": "markdown",
   "metadata": {},
   "source": [
    "## 流派音乐风格相似度比较\n",
    "- `genre_style[genre]` genre流派风格\n",
    "- `genre_sim[a][b]` a、b间流派相似度"
   ]
  },
  {
   "cell_type": "code",
   "execution_count": null,
   "metadata": {},
   "outputs": [],
   "source": [
    "genre_style = pd.DataFrame(\n",
    "    {genre: artist[features].T[artists_in_genre[genre]].T.mean() for genre in artists_in_genre})\n",
    "genre_sim = (genre_style.T/genre_style.T.mean()).T.corr()\n",
    "for genre in genre_sim.index:\n",
    "    genre_sim[genre][genre] = 0\n",
    "print(\"以下两个流派相似度最大：\")\n",
    "print(genre_sim.max().idxmax(), \"<=>\",\n",
    "      genre_sim.idxmax()[genre_sim.max().idxmax()])\n",
    "print(\"Similarity:\", genre_sim.max().max())\n"
   ]
  },
  {
   "cell_type": "markdown",
   "metadata": {},
   "source": [
    "## 流派间影响计算"
   ]
  },
  {
   "cell_type": "code",
   "execution_count": null,
   "metadata": {},
   "outputs": [],
   "source": [
    "from pylab import show\n",
    "genres = artists_in_genre.keys()\n",
    "influence_in_genre = defaultdict(lambda: defaultdict(int))\n",
    "for f, t in influence_network.edges:\n",
    "    if influence_network.nodes[f]['main_genre'] != influence_network.nodes[t]['main_genre']:\n",
    "        influence_in_genre[influence_network.nodes[f]['main_genre']\n",
    "                           ][influence_network.nodes[t]['main_genre']] += 1\n",
    "\n",
    "for a in genres:\n",
    "    for b in genres:\n",
    "        if b in influence_in_genre[a]:\n",
    "            if a in influence_in_genre[b]:\n",
    "                if influence_in_genre[a][b] > influence_in_genre[b][a]:\n",
    "                    del influence_in_genre[b][a]\n",
    "            if influence_in_genre[a][b] < 45:\n",
    "                del influence_in_genre[a][b]\n",
    "\n",
    "def loop_check(id, visited=None):\n",
    "    if visited is None:\n",
    "        visited=set()\n",
    "    if id in visited:\n",
    "        print(\"检测到环！环上节点集合：\", visited)\n",
    "        return True\n",
    "    visited.add(id)\n",
    "    for next in influence_in_genre[id]:\n",
    "        if loop_check(next, visited.copy()):\n",
    "            return True\n",
    "    return False\n",
    "\n",
    "\n",
    "for id in influence_in_genre:\n",
    "    if loop_check(id):\n",
    "        break\n",
    "else:\n",
    "    print(\"未检测到环！\")\n",
    "\n",
    "\n",
    "test = nx.DiGraph(influence_in_genre)\n",
    "print(nx.is_weakly_connected(test))\n",
    "nx.draw(test, pos=nx.shell_layout(test), with_labels=True)\n",
    "show()\n"
   ]
  },
  {
   "cell_type": "markdown",
   "metadata": {},
   "source": [
    "## 注：样本数据格式\n",
    "- File: influence_data.csv\n",
    "文件描述影响者与追随者的有向图关系。\n",
    "\n",
    "|                      键 | 描述                                                                                                            |\n",
    "| ----------------------: | :-------------------------------------------------------------------------------------------------------------- |\n",
    "|           influencer_id | A unique identification number given to the person listed as influencer. (string of digits)                     |\n",
    "|         influencer_name | The name of the influencing artist as given by the follower or industry experts. (string)                       |\n",
    "|   influencer_main_genre | The genre that best describes the bulk of the music produced by the influencing artist. (if available) (string) |\n",
    "| influencer_active_start | The decade that the influencing artist began their music career. (integer)                                      |\n",
    "|             follower_id | A unique identification number given to the artist listed as follower. (string of digits)                       |\n",
    "|           follower_name | The name of the artist following an influencing artist. (string)                                                |\n",
    "|     follower_main_genre | The genre that best describes the bulk of the music produced by the following artist. (if available) (string)   |\n",
    "|   follower_active_start | The decade that the following artist began their music career. (integer)                                        |\n",
    "- File: data_by_artist.csv\n",
    "文件描述作者信息及作曲风格。\n",
    "\n",
    "|               键 | 描述                                                                                                                                                                                                                                                                                                                                                                                                                                                                                                                                                                                                      |\n",
    "| ---------------: | :-------------------------------------------------------------------------------------------------------------------------------------------------------------------------------------------------------------------------------------------------------------------------------------------------------------------------------------------------------------------------------------------------------------------------------------------------------------------------------------------------------------------------------------------------------------------------------------------------------- |\n",
    "|      artist_name | The artist who performed the track. (array)                                                                                                                                                                                                                                                                                                                                                                                                                                                                                                                                                               |\n",
    "|        artist_id | The same unique identification number given in the influence_data.csv file. (string of digits)                                                                                                                                                                                                                                                                                                                                                                                                                                                                                                            |\n",
    "|     danceability | A measure of how suitable a track is for dancing based on a combination of musical elements including tempo, rhythm stability, beat strength, and overall regularity. A value of 0.0 is least danceable and 1.0 is most danceable. (float)                                                                                                                                                                                                                                                                                                                                                                |\n",
    "|           energy | A measure representing a perception of intensity and activity. A value of 0.0 is least intense/energetic and 1.0 is most intense/energetic. Typically, energetic tracks feel fast, loud, and noisy. For example, death metal has high energy, while a Bach prelude scores low on the scale. Perceptual features contributing to this attribute include dynamic range, perceived loudness, timbre, onset rate, and general entropy. (float)                                                                                                                                                                |\n",
    "|          valence | A measure describing the musical positiveness conveyed by a track. A value of 0.0 is most negative and 1.0 is most positive. Tracks with high valence sound more positive (e.g. happy, cheerful, euphoric), while tracks with low valence sound more negative (e.g. sad, depressed, angry). (float)                                                                                                                                                                                                                                                                                                       |\n",
    "|            tempo | The overall estimated tempo of a track in beats per minute (BPM). In musical terminology, tempo is the speed or pace of a given piece and derives directly from the average beat duration. (float)                                                                                                                                                                                                                                                                                                                                                                                                        |\n",
    "|         loudness | The overall loudness of a track in decibels (dB). Values typical range between -60 and 0 db. Loudness values are averaged across the entire track and are useful for comparing relative loudness of tracks. Loudness is the quality of a sound that is the primary psychological correlate of physical strength (amplitude). (float)                                                                                                                                                                                                                                                                      |\n",
    "|             mode | An indication of modality (major or minor), the type of scale from which its melodic content is derived, of a track. Major is represented by 1 and minor is 0.                                                                                                                                                                                                                                                                                                                                                                                                                                            |\n",
    "|              key | The estimated overall key of the track. Integers map to pitches using standard Pitch Class notation. E.g. 0 = C, 1 = C♯/D♭, 2 = D, and so on. If no key was detected, the value for key is -1. (integer)                                                                                                                                                                                                                                                                                                                                                                                                  |\n",
    "|     acousticness | A confidence measure of whether the track is acoustic (without technology enhancements or electrical amplification). A value of 1.0 represents high confidence the track is acoustic. (float)                                                                                                                                                                                                                                                                                                                                                                                                             |\n",
    "| instrumentalness | Predicts whether a track contains no vocals. “Ooh” and “aah” sounds are treated as instrumental in this context. Rap or spoken word tracks are clearly “vocal”. The closer the instrumentalness value is to 1.0, the greater likelihood the track contains no vocal content. Values above 0.5 are intended to represent instrumental tracks, but confidence is higher as the value approaches 1.0. (float)                                                                                                                                                                                                |\n",
    "|         liveness | Detects the presence of an audience in a track. Higher liveness values represent an increased probability that the track was performed live. A value above 0.8 provides strong likelihood that the track is live. (float)                                                                                                                                                                                                                                                                                                                                                                                 |\n",
    "|      speechiness | Detects the presence of spoken words in a track. The more exclusively speech-like the recording (e.g. talk show, audio book, poetry), the closer to 1.0 the attribute value. Values above 0.66 describe tracks that are probably made entirely of spoken words. Values between 0.33 and 0.66 describe tracks that may contain both music and speech, either in sections or layered, including such cases as rap music. Values below 0.33 most likely represent music and other non-speech-like tracks. (float)                                                                                            |\n",
    "|      duration_ms | The duration of the track in milliseconds. (integer)                                                                                                                                                                                                                                                                                                                                                                                                                                                                                                                                                      |\n",
    "|       popularity | The popularity of the track. The value will be between 0 and 100, with 100 being the most popular. The popularity is calculated by algorithm and is based, in the most part, on the total number of plays the track has had and how recent those plays are. Generally speaking, songs that are being played more frequently now will have a higher popularity than songs that were played more frequently in the past. Duplicate tracks (e.g. the same track from a single and an album) are rated independently. Artist and album popularity are derived mathematically from track popularity. (integer) |\n",
    "|            count | The number of songs a particular artist is represented in the full_music_data.csv file. (integer)                                                                                                                                                                                                                                                                                                                                                                                                                                                                                                         |\n",
    "- File: data_by_year.csv\n",
    "文件描述特定年份作曲潮流。\n",
    "\n",
    "|               键 | 描述                                                                                                                                                                                                                                                                                                                                                                                                                                                                                                                                                                                                      |\n",
    "| ---------------: | :-------------------------------------------------------------------------------------------------------------------------------------------------------------------------------------------------------------------------------------------------------------------------------------------------------------------------------------------------------------------------------------------------------------------------------------------------------------------------------------------------------------------------------------------------------------------------------------------------------- |\n",
    "|             year | The year of release of a track. (integer from 1921 to 2020)                                                                                                                                                                                                                                                                                                                                                                                                                                                                                                                                               |\n",
    "|     danceability | A measure of how suitable a track is for dancing based on a combination of musical elements including tempo, rhythm stability, beat strength, and overall regularity. A value of 0.0 is least danceable and 1.0 is most danceable. (float)                                                                                                                                                                                                                                                                                                                                                                |\n",
    "|           energy | A measure representing a perception of intensity and activity. A value of 0.0 is least intense/energetic and 1.0 is most intense/energetic. Typically, energetic tracks feel fast, loud, and noisy. For example, death metal has high energy, while a Bach prelude scores low on the scale. Perceptual features contributing to this attribute include dynamic range, perceived loudness, timbre, onset rate, and general entropy. (float)                                                                                                                                                                |\n",
    "|          valence | A measure describing the musical positiveness conveyed by a track. A value of 0.0 is most negative and 1.0 is most positive. Tracks with high valence sound more positive (e.g. happy, cheerful, euphoric), while tracks with low valence sound more negative (e.g. sad, depressed, angry). (float)                                                                                                                                                                                                                                                                                                       |\n",
    "|            tempo | The overall estimated tempo of a track in beats per minute (BPM). In musical terminology, tempo is the speed or pace of a given piece and derives directly from the average beat duration. (float)                                                                                                                                                                                                                                                                                                                                                                                                        |\n",
    "|         loudness | The overall loudness of a track in decibels (dB). Values typical range between -60 and 0 db. Loudness values are averaged across the entire track and are useful for comparing relative loudness of tracks. Loudness is the quality of a sound that is the primary psychological correlate of physical strength (amplitude). (float)                                                                                                                                                                                                                                                                      |\n",
    "|             mode | An indication of modality (major or minor), the type of scale from which its melodic content is derived, of a track. Major is represented by 1 and minor is 0.                                                                                                                                                                                                                                                                                                                                                                                                                                            |\n",
    "|              key | The estimated overall key of the track. Integers map to pitches using standard Pitch Class notation. E.g. 0 = C, 1 = C♯/D♭, 2 = D, and so on. If no key was detected, the value for key is -1. (integer)                                                                                                                                                                                                                                                                                                                                                                                                  |\n",
    "|     acousticness | A confidence measure of whether the track is acoustic (without technology enhancements or electrical amplification). A value of 1.0 represents high confidence the track is acoustic. (float)                                                                                                                                                                                                                                                                                                                                                                                                             |\n",
    "| instrumentalness | Predicts whether a track contains no vocals. “Ooh” and “aah” sounds are treated as instrumental in this context. Rap or spoken word tracks are clearly “vocal”. The closer the instrumentalness value is to 1.0, the greater likelihood the track contains no vocal content. Values above 0.5 are intended to represent instrumental tracks, but confidence is higher as the value approaches 1.0. (float)                                                                                                                                                                                                |\n",
    "|         liveness | Detects the presence of an audience in a track. Higher liveness values represent an increased probability that the track was performed live. A value above 0.8 provides strong likelihood that the track is live. (float)                                                                                                                                                                                                                                                                                                                                                                                 |\n",
    "|      speechiness | Detects the presence of spoken words in a track. The more exclusively speech-like the recording (e.g. talk show, audio book, poetry), the closer to 1.0 the attribute value. Values above 0.66 describe tracks that are probably made entirely of spoken words. Values between 0.33 and 0.66 describe tracks that may contain both music and speech, either in sections or layered, including such cases as rap music. Values below 0.33 most likely represent music and other non-speech-like tracks. (float)                                                                                            |\n",
    "|      duration_ms | The duration of the track in milliseconds. (integer)                                                                                                                                                                                                                                                                                                                                                                                                                                                                                                                                                      |\n",
    "|       popularity | The popularity of the track. The value will be between 0 and 100, with 100 being the most popular. The popularity is calculated by algorithm and is based, in the most part, on the total number of plays the track has had and how recent those plays are. Generally speaking, songs that are being played more frequently now will have a higher popularity than songs that were played more frequently in the past. Duplicate tracks (e.g. the same track from a single and an album) are rated independently. Artist and album popularity are derived mathematically from track popularity. (integer) |\n",
    "- File: full_music_data.csv\n",
    "文件描述全部歌曲信息。\n",
    "\n",
    "|                    键 | 描述                                                                                                                                                                                                                                                                                                                                                                                                                                                                                                                                                                                                      |\n",
    "| --------------------: | :-------------------------------------------------------------------------------------------------------------------------------------------------------------------------------------------------------------------------------------------------------------------------------------------------------------------------------------------------------------------------------------------------------------------------------------------------------------------------------------------------------------------------------------------------------------------------------------------------------- |\n",
    "|           artist_name | The artist who performed the track. (array)                                                                                                                                                                                                                                                                                                                                                                                                                                                                                                                                                               |\n",
    "|            artists_id | The same unique identification number given in the influence_data.csv file. (string of digits)                                                                                                                                                                                                                                                                                                                                                                                                                                                                                                            |\n",
    "|          danceability | A measure of how suitable a track is for dancing based on a combination of musical elements including tempo, rhythm stability, beat strength, and overall regularity. A value of 0.0 is least danceable and 1.0 is most danceable. (float)                                                                                                                                                                                                                                                                                                                                                                |\n",
    "|                energy | A measure representing a perception of intensity and activity. A value of 0.0 is least intense/energetic and 1.0 is most intense/energetic. Typically, energetic tracks feel fast, loud, and noisy. For example, death metal has high energy, while a Bach prelude scores low on the scale. Perceptual features contributing to this attribute include dynamic range, perceived loudness, timbre, onset rate, and general entropy. (float)                                                                                                                                                                |\n",
    "|               valence | A measure describing the musical positiveness conveyed by a track. A value of 0.0 is most negative and 1.0 is most positive. Tracks with high valence sound more positive (e.g. happy, cheerful, euphoric), while tracks with low valence sound more negative (e.g. sad, depressed, angry). (float)                                                                                                                                                                                                                                                                                                       |\n",
    "|                 tempo | The overall estimated tempo of a track in beats per minute (BPM). In musical terminology, tempo is the speed or pace of a given piece and derives directly from the average beat duration. (float)                                                                                                                                                                                                                                                                                                                                                                                                        |\n",
    "|              loudness | The overall loudness of a track in decibels (dB). Values typical range between -60 and 0 db. Loudness values are averaged across the entire track and are useful for comparing relative loudness of tracks. Loudness is the quality of a sound that is the primary psychological correlate of physical strength (amplitude). (float)                                                                                                                                                                                                                                                                      |\n",
    "|                  mode | An indication of modality (major or minor), the type of scale from which its melodic content is derived, of a track. Major is represented by 1 and minor is 0.                                                                                                                                                                                                                                                                                                                                                                                                                                            |\n",
    "|                   key | The estimated overall key of the track. Integers map to pitches using standard Pitch Class notation. E.g. 0 = C, 1 = C♯/D♭, 2 = D, and so on. If no key was detected, the value for key is -1. (integer)                                                                                                                                                                                                                                                                                                                                                                                                  |\n",
    "|          acousticness | A confidence measure of whether the track is acoustic (without technology enhancements or electrical amplification). A value of 1.0 represents high confidence the track is acoustic. (float)                                                                                                                                                                                                                                                                                                                                                                                                             |\n",
    "|      instrumentalness | Predicts whether a track contains no vocals. “Ooh” and “aah” sounds are treated as instrumental in this context. Rap or spoken word tracks are clearly “vocal”. The closer the instrumentalness value is to 1.0, the greater likelihood the track contains no vocal content. Values above 0.5 are intended to represent instrumental tracks, but confidence is higher as the value approaches 1.0. (float)                                                                                                                                                                                                |\n",
    "|              liveness | Detects the presence of an audience in a track. Higher liveness values represent an increased probability that the track was performed live. A value above 0.8 provides strong likelihood that the track is live. (float)                                                                                                                                                                                                                                                                                                                                                                                 |\n",
    "|           speechiness | Detects the presence of spoken words in a track. The more exclusively speech-like the recording (e.g. talk show, audio book, poetry), the closer to 1.0 the attribute value. Values above 0.66 describe tracks that are probably made entirely of spoken words. Values between 0.33 and 0.66 describe tracks that may contain both music and speech, either in sections or layered, including such cases as rap music. Values below 0.33 most likely represent music and other non-speech-like tracks. (float)                                                                                            |\n",
    "|              explicit | Detects explicit lyrics in a track (true (1) = yes it does; false (0) = no it does not OR unknown). (Boolean)                                                                                                                                                                                                                                                                                                                                                                                                                                                                                             |\n",
    "|           duration_ms | The duration of the track in milliseconds. (integer)                                                                                                                                                                                                                                                                                                                                                                                                                                                                                                                                                      |\n",
    "|            popularity | The popularity of the track. The value will be between 0 and 100, with 100 being the most popular. The popularity is calculated by algorithm and is based, in the most part, on the total number of plays the track has had and how recent those plays are. Generally speaking, songs that are being played more frequently now will have a higher popularity than songs that were played more frequently in the past. Duplicate tracks (e.g. the same track from a single and an album) are rated independently. Artist and album popularity are derived mathematically from track popularity. (integer) |\n",
    "|                  year | The year of release of a track. (integer from 1921 to 2020)                                                                                                                                                                                                                                                                                                                                                                                                                                                                                                                                               |\n",
    "|          release_date | The calendar date of release of a track mostly in yyyy-mm-dd format, however precision of date may vary and some just given as yyyy.                                                                                                                                                                                                                                                                                                                                                                                                                                                                      |\n",
    "| song_title (censored) | The name of the track. (string) Software was run to remove any potential explicit words in the song title.                                                                                                                                                                                                                                                                                                                                                                                                                                                                                                |"
   ]
  }
 ],
 "metadata": {
  "interpreter": {
   "hash": "93eedc822eafabb0b825994b44d7184cdef4e9f74a95fc40c1d86bca946a64a1"
  },
  "kernelspec": {
   "display_name": "Python 3.9.5 ('2021-ICM')",
   "language": "python",
   "name": "python3"
  },
  "language_info": {
   "codemirror_mode": {
    "name": "ipython",
    "version": 3
   },
   "file_extension": ".py",
   "mimetype": "text/x-python",
   "name": "python",
   "nbconvert_exporter": "python",
   "pygments_lexer": "ipython3",
   "version": "3.9.5"
  },
  "orig_nbformat": 4
 },
 "nbformat": 4,
 "nbformat_minor": 2
}
